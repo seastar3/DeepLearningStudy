{
 "cells": [
  {
   "cell_type": "code",
   "execution_count": 1,
   "metadata": {},
   "outputs": [],
   "source": [
    "# 実習用のライブラリーやモジュールのセット\n",
    "import numpy as np\n",
    "import matplotlib.pyplot as plt\n",
    "import sys\n",
    "import pandas as pd\n",
    "import mglearn\n",
    "from IPython.display import display\n",
    "import scipy as sp\n",
    "import IPython\n",
    "import sklearn\n",
    "from sklearn.neural_network import MLPClassifier\n",
    "from sklearn.model_selection import train_test_split"
   ]
  },
  {
   "cell_type": "code",
   "execution_count": 17,
   "metadata": {},
   "outputs": [],
   "source": [
    "fr_df = pd.read_csv('../Documents/kessandata_Valueall.csv')\n",
    "fr_target =  fr_df.loc[:,['icd1']]"
   ]
  },
  {
   "cell_type": "code",
   "execution_count": 18,
   "metadata": {},
   "outputs": [
    {
     "name": "stdout",
     "output_type": "stream",
     "text": [
      "データセットのキー（特徴量名）の確認==>:\n",
      " Index(['icd1', 'sales', 'profit', 'profits', 'profitpure', 'equity', 'assets'], dtype='object')\n",
      "dataframeの行数・列数の確認==>\n",
      " (2779, 7)\n"
     ]
    }
   ],
   "source": [
    "# 産業区分,業種コード,業種,証券コード,企業名,会計基準,連結個別,決算期,決算期間,期首日付,期末日付,\n",
    "# 売上高・営業収益,営業利益,経常利益,純利益,一株当り純利益,\n",
    "# 純資産又は株主資本,総資産,一株当り純資産,情報公開又は更新日\n",
    "print(\"データセットのキー（特徴量名）の確認==>:\\n\", fr_df.keys())\n",
    "print('dataframeの行数・列数の確認==>\\n', fr_df.shape)"
   ]
  },
  {
   "cell_type": "code",
   "execution_count": 19,
   "metadata": {},
   "outputs": [],
   "source": [
    "fr_df = pd.read_csv('../Documents/kessandata_Valueall.csv')\n",
    "fr_target =  fr_df.loc[:,['icd1']]"
   ]
  },
  {
   "cell_type": "code",
   "execution_count": 95,
   "metadata": {
    "scrolled": true
   },
   "outputs": [
    {
     "name": "stdout",
     "output_type": "stream",
     "text": [
      "Accuracy on training set: 0.58\n",
      "Accuracy on test set: 0.60\n"
     ]
    },
    {
     "name": "stderr",
     "output_type": "stream",
     "text": [
      "C:\\ProgramData\\Anaconda3\\lib\\site-packages\\sklearn\\neural_network\\_multilayer_perceptron.py:471: ConvergenceWarning: lbfgs failed to converge (status=2):\n",
      "ABNORMAL_TERMINATION_IN_LNSRCH.\n",
      "\n",
      "Increase the number of iterations (max_iter) or scale the data as shown in:\n",
      "    https://scikit-learn.org/stable/modules/preprocessing.html\n",
      "  self.n_iter_ = _check_optimize_result(\"lbfgs\", opt_res, self.max_iter)\n"
     ]
    }
   ],
   "source": [
    "# 全産業　判定\n",
    "fr_df = pd.read_csv('../Documents/kessandata_Valueall.csv')\n",
    "fr_target =  fr_df.loc[:,['icd1']]\n",
    "# fr データセットでMLP判定モデル操作\n",
    "# X_train, X_test, y_train, y_test = train_test_split(fr_df, fr_df['icd1'], random_state = 0)\n",
    "X_train, X_test, y_train, y_test = train_test_split(fr_df, fr_df['icd1'], random_state = 27)\n",
    "mlp = MLPClassifier(solver='lbfgs',activation='tanh', random_state=27, hidden_layer_sizes=[50,50], alpha=0.1)\n",
    "\n",
    "mean_on_train = X_train.mean(axis=0)\n",
    "std_on_train = X_train.std(axis=0)\n",
    "\n",
    "# fr データセットでスケール変換\n",
    "# X_train_scaled = (X_train - mean_on_train) / std_on_train\n",
    "# X_test_scaled = (X_test - mean_on_train) / std_on_train\n",
    "\n",
    "mlp.fit(X_train, y_train)\n",
    "\n",
    "print(\"Accuracy on training set: {:.2f}\".format(mlp.score(X_train, y_train)))\n",
    "print(\"Accuracy on test set: {:.2f}\".format(mlp.score(X_test, y_test)))"
   ]
  },
  {
   "cell_type": "code",
   "execution_count": 92,
   "metadata": {
    "scrolled": true
   },
   "outputs": [
    {
     "name": "stdout",
     "output_type": "stream",
     "text": [
      "Accuracy on training set: 0.67\n",
      "Accuracy on test set: 0.64\n"
     ]
    },
    {
     "name": "stderr",
     "output_type": "stream",
     "text": [
      "C:\\ProgramData\\Anaconda3\\lib\\site-packages\\sklearn\\neural_network\\_multilayer_perceptron.py:471: ConvergenceWarning: lbfgs failed to converge (status=1):\n",
      "STOP: TOTAL NO. of ITERATIONS REACHED LIMIT.\n",
      "\n",
      "Increase the number of iterations (max_iter) or scale the data as shown in:\n",
      "    https://scikit-learn.org/stable/modules/preprocessing.html\n",
      "  self.n_iter_ = _check_optimize_result(\"lbfgs\", opt_res, self.max_iter)\n"
     ]
    }
   ],
   "source": [
    "# 製造業-商業　判定\n",
    "fr_df = pd.read_csv('../Documents/kessandata_Valueall_23.csv')\n",
    "fr_target =  fr_df.loc[:,['icd1']]\n",
    "# fr データセットでMLP判定モデル操作\n",
    "# X_train, X_test, y_train, y_test = train_test_split(fr_df, fr_df['icd1'], random_state = 0)\n",
    "X_train, X_test, y_train, y_test = train_test_split(fr_df, fr_df['icd1'], random_state = 25)\n",
    "mlp = MLPClassifier(solver='lbfgs',activation='tanh', random_state=0, hidden_layer_sizes=[50,50], alpha=0.1)\n",
    "\n",
    "mean_on_train = X_train.mean(axis=0)\n",
    "std_on_train = X_train.std(axis=0)\n",
    "\n",
    "# fr データセットでスケール変換\n",
    "# X_train_scaled = (X_train - mean_on_train) / std_on_train\n",
    "# X_test_scaled = (X_test - mean_on_train) / std_on_train\n",
    "\n",
    "mlp.fit(X_train, y_train)\n",
    "\n",
    "print(\"Accuracy on training set: {:.2f}\".format(mlp.score(X_train, y_train)))\n",
    "print(\"Accuracy on test set: {:.2f}\".format(mlp.score(X_test, y_test)))"
   ]
  },
  {
   "cell_type": "code",
   "execution_count": 93,
   "metadata": {},
   "outputs": [
    {
     "name": "stdout",
     "output_type": "stream",
     "text": [
      "Accuracy on training set: 0.80\n",
      "Accuracy on test set: 0.80\n"
     ]
    },
    {
     "name": "stderr",
     "output_type": "stream",
     "text": [
      "C:\\ProgramData\\Anaconda3\\lib\\site-packages\\sklearn\\neural_network\\_multilayer_perceptron.py:471: ConvergenceWarning: lbfgs failed to converge (status=2):\n",
      "ABNORMAL_TERMINATION_IN_LNSRCH.\n",
      "\n",
      "Increase the number of iterations (max_iter) or scale the data as shown in:\n",
      "    https://scikit-learn.org/stable/modules/preprocessing.html\n",
      "  self.n_iter_ = _check_optimize_result(\"lbfgs\", opt_res, self.max_iter)\n"
     ]
    }
   ],
   "source": [
    "# 製造業-情報産業　判定\n",
    "fr_df = pd.read_csv('../Documents/kessandata_Valueall_24.csv')\n",
    "fr_target =  fr_df.loc[:,['icd1']]\n",
    "# fr データセットでMLP判定モデル操作\n",
    "# X_train, X_test, y_train, y_test = train_test_split(fr_df, fr_df['icd1'], random_state = 11)\n",
    "X_train, X_test, y_train, y_test = train_test_split(fr_df, fr_df['icd1'], random_state = 25)\n",
    "mlp = MLPClassifier(solver='lbfgs',activation='tanh', random_state=0, hidden_layer_sizes=[50,50], alpha=0.1)\n",
    "\n",
    "mean_on_train = X_train.mean(axis=0)\n",
    "std_on_train = X_train.std(axis=0)\n",
    "\n",
    "# fr データセットでスケール変換\n",
    "# X_train_scaled = (X_train - mean_on_train) / std_on_train\n",
    "# X_test_scaled = (X_test - mean_on_train) / std_on_train\n",
    "\n",
    "mlp.fit(X_train, y_train)\n",
    "\n",
    "print(\"Accuracy on training set: {:.2f}\".format(mlp.score(X_train, y_train)))\n",
    "print(\"Accuracy on test set: {:.2f}\".format(mlp.score(X_test, y_test)))"
   ]
  },
  {
   "cell_type": "code",
   "execution_count": 94,
   "metadata": {},
   "outputs": [
    {
     "name": "stdout",
     "output_type": "stream",
     "text": [
      "Accuracy on training set: 0.76\n",
      "Accuracy on test set: 0.75\n"
     ]
    }
   ],
   "source": [
    "# 商業-情報産業　判定\n",
    "fr_df = pd.read_csv('../Documents/kessandata_Valueall_34.csv')\n",
    "fr_target =  fr_df.loc[:,['icd1']]\n",
    "# fr データセットでMLP判定モデル操作\n",
    "# X_train, X_test, y_train, y_test = train_test_split(fr_df, fr_df['icd1'], random_state = 11)\n",
    "X_train, X_test, y_train, y_test = train_test_split(fr_df, fr_df['icd1'], random_state = 27)\n",
    "mlp = MLPClassifier(solver='lbfgs',activation='tanh', random_state=27, hidden_layer_sizes=[50,50], alpha=0.1)\n",
    "\n",
    "mean_on_train = X_train.mean(axis=0)\n",
    "std_on_train = X_train.std(axis=0)\n",
    "\n",
    "# fr データセットでスケール変換\n",
    "# X_train_scaled = (X_train - mean_on_train) / std_on_train\n",
    "# X_test_scaled = (X_test - mean_on_train) / std_on_train\n",
    "\n",
    "mlp.fit(X_train, y_train)\n",
    "\n",
    "print(\"Accuracy on training set: {:.2f}\".format(mlp.score(X_train, y_train)))\n",
    "print(\"Accuracy on test set: {:.2f}\".format(mlp.score(X_test, y_test)))"
   ]
  },
  {
   "cell_type": "code",
   "execution_count": 20,
   "metadata": {},
   "outputs": [
    {
     "name": "stdout",
     "output_type": "stream",
     "text": [
      "Accuracy on training set: 0.71\n",
      "Accuracy on test set: 0.69\n",
      "[2 4 4 2 2 2 4 4 4 4 2 4 4 4 2 4 4 4 4 2 2 4 4 4 2 4 4 4 4 4 2 4 4 2 4 2 4\n",
      " 2 4 4 2 2 4 4 2 2 2 2 4 2 2 2 2 2 4 4 4 4 2 2 4 2 4 2 2 4 2 4 4 2 4 2 2 4\n",
      " 4 4 2 2 2 2 4 4 2 2 2 2 4 2 2 4 4 4 2 4 4 2 2 4 2 2 4 4 2 4 4 2 4 2 2 4 4\n",
      " 4 2 2 4 2 4 4 2 4 2 4 4 2 4 2 4 4 4 2 2 4 4 2 2 2 2 4 2 2 2 4 2 2 2 2 4 2\n",
      " 2 2 2 4 4 4 4 4 2 4 4 2 2 4 2 2 2 2 4 4 2 4 2 4 2 4 2 4 2 2 2 4 2 4 4 2 2\n",
      " 2 2 4 4 2 4 2 2 4 4 2 4 4 4 2 2 2 2 4 2 4 4 4 4 4 4 2 2 2 2 2 2 2 4 2 4 2\n",
      " 2 2 4 4 2 2 4 2 4 2 4 4 4 2 4 2 2 2 2 4 2 2 4 2 2 4 4 4 4 4 2 2 4 2 4 4 2\n",
      " 2 2 2 2 2 2 2 4 4 2 4 4 2 2 2 2 4 4 2 4 4 4 2 4 4 4 2 2 4 4 4 2 2 4 4 4 4\n",
      " 4 4 4 2 2 4 4 2 4 2 2 2 4 2 2 4 2 4 4 2 4 2 4 2 4 2 2 4 4 4 2 4 4 2 4 2 4\n",
      " 2 2 4 4 4 2 2 2 4 4 4 4 4 2 2 2 4 4 2 4 4 2 4 4 4 4 4 4 4 4 4 4 2 4 2 2 4\n",
      " 4 4 2 4 4 4 2 2 4 2 4 2 4 4 2 4 4 4 2 4 2 2 2 2 4 4 2 4 4 4 4 2 2 2 2 4 2\n",
      " 4 4 4 4 2 2 4 4 2 2 4 4 4 4 2 2 2 2 4 2 2 4 2 2 4 2 4 2 2 4 2 4 2 4 4 4 4\n",
      " 2 2 2 4 4 4 4 2 2 4 4 2 4 4 4 4 2 2 4 4 2 2 4 4 2 4 2 4 2 4 4 4 4 2 2 2 2\n",
      " 4 4 2 4 2 4 2 2 2 2 2 2 4 2 2 4 4 4 2]\n"
     ]
    },
    {
     "name": "stderr",
     "output_type": "stream",
     "text": [
      "C:\\ProgramData\\Anaconda3\\lib\\site-packages\\sklearn\\neural_network\\_multilayer_perceptron.py:471: ConvergenceWarning: lbfgs failed to converge (status=2):\n",
      "ABNORMAL_TERMINATION_IN_LNSRCH.\n",
      "\n",
      "Increase the number of iterations (max_iter) or scale the data as shown in:\n",
      "    https://scikit-learn.org/stable/modules/preprocessing.html\n",
      "  self.n_iter_ = _check_optimize_result(\"lbfgs\", opt_res, self.max_iter)\n"
     ]
    }
   ],
   "source": [
    "# 製造業-情報産業　判定\n",
    "fr_df = pd.read_csv('../Documents/kessandata_Value3000_24.csv')\n",
    "fr_target =  fr_df.loc[:,['icd1']]\n",
    "# fr データセットでMLP判定モデル操作\n",
    "# X_train, X_test, y_train, y_test = train_test_split(fr_df, fr_df['icd1'], random_state = 11)\n",
    "X_train, X_test, y_train, y_test = train_test_split(fr_df, fr_df['icd1'], random_state = 11)\n",
    "mlp = MLPClassifier(solver='lbfgs',activation='tanh', random_state=11, hidden_layer_sizes=[50,50], alpha=0.001)\n",
    "\n",
    "mean_on_train = X_train.mean(axis=0)\n",
    "std_on_train = X_train.std(axis=0)\n",
    "\n",
    "mlp.fit(X_train, y_train)\n",
    "\n",
    "print(\"Accuracy on training set: {:.2f}\".format(mlp.score(X_train, y_train)))\n",
    "print(\"Accuracy on test set: {:.2f}\".format(mlp.score(X_test, y_test)))\n",
    "print(mlp.predict(X_test))\n"
   ]
  },
  {
   "cell_type": "code",
   "execution_count": 22,
   "metadata": {},
   "outputs": [
    {
     "name": "stdout",
     "output_type": "stream",
     "text": [
      "Accuracy on training set: 0.65\n",
      "Accuracy on test set: 0.60\n",
      "[4 4 4 3 4 4 4 4 4 4 3 4 4 4 4 4 4 3 4 4 3 4 4 4 4 4 4 4 4 4 4 4 4 3 4 4 4\n",
      " 3 3 4 4 4 4 3 3 3 4 4 4 4 4 4 4 4 4 3 4 4 3 4 4 4 4 4 4 4 4 4 4 4 4 3 4 4\n",
      " 3 3 4 4 4 4 4 4 3 4 4 4 4 4 4 4 4 3 3 4 4 3 4 4 4 4 4 4 3 4 4 4 4 4 3 4 3\n",
      " 4 4 4 4 4 4 4 4 4 3 4 4 3 4 4 4 4 4 4 3 4 3 4 4 4 4 3 4 4 3 4 4 3 3 4 3 3\n",
      " 4 4 4 4 4 4 4 4 4 3 4 4 4 4 4 3 4 3 4 4 3 4 4 4 4 4 4 4 3 4 4 3 3 4 3 4 4\n",
      " 4 3 3 4 4 4 4 3 4 4 4 4 4 3 4 4 4 3 4 4 4 4 4 3 3 4 4 4 4 4 4 4 3 3 3 4 4\n",
      " 3 4 4 4 3 4 3 4 4 3 4 4 4 4 4 3 4 4 4 3 4 4 4 3 3 4 4 4 4 4 4 3 4 4 4 4 3\n",
      " 4 4 3 3 4 4 3 4 4 4 4 4 3 3 4 4 4 4 4 4 3 4 3 4 4 4 4 4 4 4 4 4 4 4 4 4 4\n",
      " 4 3 4 4 3 3 3 4 4 3 4 4 4 3 4 4 4 4 4 3 4 3 4 4 4 4 4 4 4 4 4 4 3 3 4 4 4\n",
      " 4 4 4 4 4 4 4 3 4 4 4 4 4 4 4 3 3 4 4 4 4 3 4 4 4 4 3 4 4 4 4 3 4 4 3 3 4\n",
      " 4 4 3 4 3 3 3 4 4 3 4 4 4 4 4 4 4 4 4 4 4 4 3 4 4 3 3 4 4 4 4 4 4 4 4 4 4\n",
      " 3 4 4 4 3 4 4 4 3 3 4 4 4 4 4 4 4 3 4 4 4 3 3 4 4 4 3 4 4 4 4 3 3 4 4 4 3\n",
      " 4 4 4 4 4 3 4 4 4 4 4 4 3 4 4 3 4 3 3 4 4 4 4 3 4 4 4 4 4 4 4 4 3 4 3 4 4\n",
      " 4 3 4 4 3 4 4 4 4 4 4 4 3 3 4 4 3 4 4]\n"
     ]
    },
    {
     "name": "stderr",
     "output_type": "stream",
     "text": [
      "C:\\ProgramData\\Anaconda3\\lib\\site-packages\\sklearn\\neural_network\\_multilayer_perceptron.py:471: ConvergenceWarning: lbfgs failed to converge (status=1):\n",
      "STOP: TOTAL NO. of ITERATIONS REACHED LIMIT.\n",
      "\n",
      "Increase the number of iterations (max_iter) or scale the data as shown in:\n",
      "    https://scikit-learn.org/stable/modules/preprocessing.html\n",
      "  self.n_iter_ = _check_optimize_result(\"lbfgs\", opt_res, self.max_iter)\n"
     ]
    }
   ],
   "source": [
    "# 商業-情報産業　判定\n",
    "fr_df = pd.read_csv('../Documents/kessandata_Value3000_34.csv')\n",
    "fr_target =  fr_df.loc[:,['icd1']]\n",
    "# fr データセットでMLP判定モデル操作\n",
    "# X_train, X_test, y_train, y_test = train_test_split(fr_df, fr_df['icd1'], random_state = 11)\n",
    "X_train, X_test, y_train, y_test = train_test_split(fr_df, fr_df['icd1'], random_state = 11)\n",
    "mlp = MLPClassifier(solver='lbfgs',activation='tanh', random_state=11, hidden_layer_sizes=[50,50], alpha=0.001)\n",
    "\n",
    "mean_on_train = X_train.mean(axis=0)\n",
    "std_on_train = X_train.std(axis=0)\n",
    "\n",
    "mlp.fit(X_train, y_train)\n",
    "\n",
    "print(\"Accuracy on training set: {:.2f}\".format(mlp.score(X_train, y_train)))\n",
    "print(\"Accuracy on test set: {:.2f}\".format(mlp.score(X_test, y_test)))\n",
    "print(mlp.predict(X_test))"
   ]
  },
  {
   "cell_type": "code",
   "execution_count": 23,
   "metadata": {},
   "outputs": [
    {
     "name": "stdout",
     "output_type": "stream",
     "text": [
      "Accuracy on training set: 0.64\n",
      "Accuracy on test set: 0.65\n",
      "[2 2 2 2 3 3 3 2 3 3 3 2 2 2 2 3 2 2 2 3 2 3 3 2 3 2 2 3 3 2 2 2 3 3 2 2 2\n",
      " 2 3 2 2 3 3 2 2 2 2 3 2 2 2 2 3 2 3 2 2 3 2 2 3 3 2 2 3 2 2 3 2 2 3 3 3 3\n",
      " 3 3 2 2 3 2 3 3 2 3 2 2 3 2 3 3 2 2 2 3 2 2 2 2 2 2 2 3 2 3 2 2 3 2 2 2 2\n",
      " 2 3 2 3 3 3 2 2 3 3 2 2 3 2 3 3 2 2 3 2 3 2 2 2 2 2 3 2 3 3 2 3 2 2 3 3 2\n",
      " 2 2 2 2 2 2 2 2 3 2 3 3 3 2 3 3 3 3 3 3 2 2 2 2 2 3 2 2 3 2 2 3 2 2 3 3 3\n",
      " 2 2 3 3 2 2 3 2 2 2 2 3 2 2 2 2 2 3 2 2 3 2 2 3 2 3 2 2 3 2 3 2 3 3 2 2 2\n",
      " 3 3 3 2 2 3 2 2 2 2 2 3 3 3 2 3 2 2 2 2 3 2 3 3 2 3 2 3 2 3 2 2 3 2 3 2 3\n",
      " 2 2 2 2 3 2 2 3 2 3 3 2 3 3 2 3 3 2 2 3 2 2 2 3 3 3 2 3 3 2 2 3 2 2 3 2 2\n",
      " 3 3 2 3 2 2 3 2 3 2 2 2 3 2 2 3 2 3 2 2 2 2 2 3 2 2 3 2 2 3 2 2 2 2 2 2 2\n",
      " 3 3 3 3 3 2 3 3 3 2 2 3 3 3 2 2 2 3 2 2 2 2 3 2 2 3 3 3 2 2 2 2 2 2 2 3 2\n",
      " 2 3 3 2 2 2 2 2 3 2 2 2 3 3 2 2 2 3 3 3 2 2 3 2 2 2 3 2 2 3 2 2 3 2 2 2 3\n",
      " 3 2 3 2 2 3 2 2 2 3 3 3 3 2 2 2 3 3 3 2 3 2 2 3 2 3 3 3 2 3 2 2 3 2 3 2 2\n",
      " 2 2 2 2 3 2 3 3 2 3 2 2 2 3 3 3 3 2 3 2 3 2 2 2 3 2 3 3 3 2 3 2 3 3 2 2 3\n",
      " 2 3 2 2 2 2 2 3 3 3 2 2 2 2 3 2 3 3 2]\n"
     ]
    }
   ],
   "source": [
    "# 商業-製造業　判定\n",
    "fr_df = pd.read_csv('../Documents/kessandata_Value3000_23.csv')\n",
    "fr_target =  fr_df.loc[:,['icd1']]\n",
    "# fr データセットでMLP判定モデル操作\n",
    "# X_train, X_test, y_train, y_test = train_test_split(fr_df, fr_df['icd1'], random_state = 11)\n",
    "X_train, X_test, y_train, y_test = train_test_split(fr_df, fr_df['icd1'], random_state = 11)\n",
    "mlp = MLPClassifier(solver='lbfgs',activation='tanh', random_state=11, hidden_layer_sizes=[50,50], alpha=0.001)\n",
    "\n",
    "mean_on_train = X_train.mean(axis=0)\n",
    "std_on_train = X_train.std(axis=0)\n",
    "\n",
    "mlp.fit(X_train, y_train)\n",
    "\n",
    "print(\"Accuracy on training set: {:.2f}\".format(mlp.score(X_train, y_train)))\n",
    "print(\"Accuracy on test set: {:.2f}\".format(mlp.score(X_test, y_test)))\n",
    "print(mlp.predict(X_test))"
   ]
  },
  {
   "cell_type": "code",
   "execution_count": 24,
   "metadata": {},
   "outputs": [
    {
     "name": "stdout",
     "output_type": "stream",
     "text": [
      "Accuracy on training set: 0.45\n",
      "Accuracy on test set: 0.45\n",
      "[2 2 2 2 3 2 3 2 2 3 2 3 2 2 3 2 2 2 2 4 3 2 2 3 3 2 2 2 4 3 3 4 3 4 4 4 2\n",
      " 2 3 2 3 3 2 2 2 2 2 4 3 3 2 3 3 3 4 3 3 2 3 2 2 2 3 2 3 3 2 2 2 4 2 2 3 2\n",
      " 2 2 4 3 3 2 2 2 2 4 3 3 3 2 4 4 2 2 3 3 3 4 2 2 2 2 2 3 3 3 2 2 2 2 3 2 4\n",
      " 2 2 2 2 2 4 3 3 4 2 2 4 2 4 4 4 2 3 3 4 4 4 2 2 3 2 2 2 4 4 3 3 3 2 2 4 3\n",
      " 3 2 2 2 2 2 4 3 2 2 4 3 2 4 3 3 3 2 2 4 3 3 2 2 3 2 3 2 3 2 2 3 2 2 2 2 2\n",
      " 2 2 3 3 2 3 2 2 2 2 4 2 3 3 3 4 4 3 3 3 3 3 4 3 2 3 2 3 2 2 3 3 3 2 3 2 4\n",
      " 3 2 2 3 4 3 2 2 2 2 2 2 2 4 3 3 3 3 3 2 4 3 2 2 4 2 2 2 2 3 4 2 2 3 4 2 3\n",
      " 4 2 3 2 4 4 2 2 2 3 3 2 4 4 4 2 3 4 2 2 4 2 4 3 3 2 3 2 3 3 2 2 2 4 2 4 2\n",
      " 2 2 4 2 2 2 4 2 2 3 3 2 3 4 2 3 2 2 2 3 4 2 2 3 3 2 2 3 3 3 3 3 3 4 4 2 2\n",
      " 2 2 2 2 2 2 3 2 2 4 4 4 4 2 2 2 3 2 3 2 2 2 2 4 3 3 2 4 3 3 2 3 3 2 2 2 2\n",
      " 2 2 2 2 2 2 3 4 4 2 4 2 2 3 4 2 3 2 3 3 2 2 2 3 2 3 2 2 3 4 2 2 3 2 4 3 2\n",
      " 3 3 2 4 4 2 3 2 4 2 3 2 2 2 3 3 2 2 4 4 2 2 3 2 2 2 4 3 4 3 4 4 3 4 3 2 3\n",
      " 4 3 2 2 2 4 2 2 2 4 4 2 4 2 2 2 2 2 2 3 3 2 2 3 2 3 3 4 2 4 3 2 3 3 3 3 2\n",
      " 3 3 2 2 2 2 2 3 2 2 3 2 4 2 2 4 3 3 2 2 3 2 2 2 2 3 2 4 3 2 2 3 3 2 3 2 2\n",
      " 3 2 3 2 3 2 4 2 4 2 2 3 4 4 3 2 2 2 3 2 2 2 4 2 3 3 3 3 2 2 3 2 4 2 2 2 3\n",
      " 3 2 4 3 2 3 2 4 3 2 3 2 2 2 2 3 2 3 4 3 2 2 4 3 2 2 2 2 2 4 2 2 2 2 3 3 3\n",
      " 4 4 2 3 2 3 2 3 2 3 2 4 3 2 2 2 3 3 3 3 2 3 3 2 4 2 2 3 4 2 2 2 3 3 2 2 4\n",
      " 4 3 2 2 2 2 2 4 2 2 2 2 3 3 2 3 2 4 3 3 3 3 2 3 3 3 2 2 2 2 3 2 2 3 4 3 3\n",
      " 4 2 2 2 4 4 2 2 2 3 3 4 3 2 4 3 4 2 4 3 3 2 4 2 3 4 2 3 2 2 2 4 3 2 2 2 2\n",
      " 2 3 2 4 4 2 2 2 2 3 2 4 2 3 3 4 3 3 3 2 2 2 2 4 2 2 2 4 3 4 2 2 4 4 2 2 2\n",
      " 2 2 4 2 4 2 3 2 4 4]\n"
     ]
    },
    {
     "name": "stderr",
     "output_type": "stream",
     "text": [
      "C:\\ProgramData\\Anaconda3\\lib\\site-packages\\sklearn\\neural_network\\_multilayer_perceptron.py:471: ConvergenceWarning: lbfgs failed to converge (status=2):\n",
      "ABNORMAL_TERMINATION_IN_LNSRCH.\n",
      "\n",
      "Increase the number of iterations (max_iter) or scale the data as shown in:\n",
      "    https://scikit-learn.org/stable/modules/preprocessing.html\n",
      "  self.n_iter_ = _check_optimize_result(\"lbfgs\", opt_res, self.max_iter)\n"
     ]
    }
   ],
   "source": [
    "# 3産業　判定\n",
    "fr_df = pd.read_csv('../Documents/kessandata_Value3000.csv')\n",
    "fr_target =  fr_df.loc[:,['icd1']]\n",
    "# fr データセットでMLP判定モデル操作\n",
    "# X_train, X_test, y_train, y_test = train_test_split(fr_df, fr_df['icd1'], random_state = 11)\n",
    "X_train, X_test, y_train, y_test = train_test_split(fr_df, fr_df['icd1'], random_state = 11)\n",
    "mlp = MLPClassifier(solver='lbfgs',activation='tanh', random_state=11, hidden_layer_sizes=[50,50], alpha=0.001)\n",
    "\n",
    "mean_on_train = X_train.mean(axis=0)\n",
    "std_on_train = X_train.std(axis=0)\n",
    "\n",
    "mlp.fit(X_train, y_train)\n",
    "\n",
    "print(\"Accuracy on training set: {:.2f}\".format(mlp.score(X_train, y_train)))\n",
    "print(\"Accuracy on test set: {:.2f}\".format(mlp.score(X_test, y_test)))\n",
    "print(mlp.predict(X_test))"
   ]
  },
  {
   "cell_type": "code",
   "execution_count": 36,
   "metadata": {},
   "outputs": [
    {
     "name": "stdout",
     "output_type": "stream",
     "text": [
      "      icd1  sales  profit  profits  profitpure  equity  assets\n",
      "903      2  15989   860.0      903       617.0    5906   15293\n",
      "601      2   9436   559.0      525       415.0    5212    8651\n",
      "2837     4   2661   528.0      547       382.0    3429    4541\n",
      "489      2   9265 -1287.0    -1224     -4831.0    5973   12754\n",
      "2407     4  10132   886.0      926       604.0    2744    6352\n",
      "...    ...    ...     ...      ...         ...     ...     ...\n",
      "2014     4   2804   -32.0        8         7.0    1655    3626\n",
      "2602     4   3170   138.0      145       546.0    1011    2191\n",
      "2657     4   3403   -58.0      -57      -133.0    1658    2073\n",
      "449      2  11223   896.0      914       545.0   19624   22413\n",
      "2813     4    954  -316.0     -366       200.0    4338    5302\n",
      "\n",
      "[750 rows x 7 columns]\n"
     ]
    }
   ],
   "source": [
    "print(X_test)"
   ]
  },
  {
   "cell_type": "code",
   "execution_count": 44,
   "metadata": {},
   "outputs": [
    {
     "name": "stdout",
     "output_type": "stream",
     "text": [
      "      profit  equity\n",
      "601    559.0    5212\n",
      "2837   528.0    3429\n",
      "489  -1287.0    5973\n",
      "2407   886.0    2744\n"
     ]
    }
   ],
   "source": [
    "print(X_test.loc[601:2407,[\"profit\",\"equity\"]])"
   ]
  },
  {
   "cell_type": "code",
   "execution_count": 47,
   "metadata": {},
   "outputs": [
    {
     "name": "stdout",
     "output_type": "stream",
     "text": [
      "[2]\n"
     ]
    }
   ],
   "source": [
    "print(mlp.predict(X_test.loc[601:601]))"
   ]
  },
  {
   "cell_type": "code",
   "execution_count": null,
   "metadata": {},
   "outputs": [],
   "source": []
  }
 ],
 "metadata": {
  "kernelspec": {
   "display_name": "Python 3",
   "language": "python",
   "name": "python3"
  },
  "language_info": {
   "codemirror_mode": {
    "name": "ipython",
    "version": 3
   },
   "file_extension": ".py",
   "mimetype": "text/x-python",
   "name": "python",
   "nbconvert_exporter": "python",
   "pygments_lexer": "ipython3",
   "version": "3.8.3"
  }
 },
 "nbformat": 4,
 "nbformat_minor": 4
}
